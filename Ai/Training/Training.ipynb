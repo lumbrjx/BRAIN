{
 "cells": [
  {
   "cell_type": "code",
   "execution_count": 190,
   "metadata": {},
   "outputs": [],
   "source": [
    "import numpy as np\n",
    "import pandas as pd \n",
    "import matplotlib.pyplot as plt \n",
    "import torch \n",
    "import torch.nn as nn\n",
    "from torch.utils.data import Dataset , DataLoader\n",
    "from sklearn.model_selection import train_test_split\n",
    "from sklearn.metrics import accuracy_score,f1_score\n",
    "import os \n",
    "import csv\n",
    "import torch.functional as F \n",
    "from tqdm import tqdm"
   ]
  },
  {
   "cell_type": "code",
   "execution_count": 191,
   "metadata": {},
   "outputs": [],
   "source": [
    "Labels_map = [\"Fail\",\"no Fail\"]\n",
    "device = torch.device(\"cuda\")\n",
    "BATCH_SIZE = 64\n",
    "LR = 0.001\n",
    "DROPOUT = 0.6\n",
    "EPOCHS  = 100"
   ]
  },
  {
   "cell_type": "code",
   "execution_count": 192,
   "metadata": {},
   "outputs": [
    {
     "name": "stdout",
     "output_type": "stream",
     "text": [
      "train_data :755\n",
      "test_data :189\n"
     ]
    },
    {
     "data": {
      "text/html": [
       "<div>\n",
       "<style scoped>\n",
       "    .dataframe tbody tr th:only-of-type {\n",
       "        vertical-align: middle;\n",
       "    }\n",
       "\n",
       "    .dataframe tbody tr th {\n",
       "        vertical-align: top;\n",
       "    }\n",
       "\n",
       "    .dataframe thead th {\n",
       "        text-align: right;\n",
       "    }\n",
       "</style>\n",
       "<table border=\"1\" class=\"dataframe\">\n",
       "  <thead>\n",
       "    <tr style=\"text-align: right;\">\n",
       "      <th></th>\n",
       "      <th>footfall</th>\n",
       "      <th>tempMode</th>\n",
       "      <th>AQ</th>\n",
       "      <th>USS</th>\n",
       "      <th>CS</th>\n",
       "      <th>VOC</th>\n",
       "      <th>RP</th>\n",
       "      <th>IP</th>\n",
       "      <th>Temperature</th>\n",
       "      <th>fail</th>\n",
       "    </tr>\n",
       "  </thead>\n",
       "  <tbody>\n",
       "    <tr>\n",
       "      <th>224</th>\n",
       "      <td>-0.125975</td>\n",
       "      <td>-0.645350</td>\n",
       "      <td>-0.226087</td>\n",
       "      <td>0.766324</td>\n",
       "      <td>-1.098254</td>\n",
       "      <td>-1.250215</td>\n",
       "      <td>0.362694</td>\n",
       "      <td>-0.978985</td>\n",
       "      <td>-0.557605</td>\n",
       "      <td>1</td>\n",
       "    </tr>\n",
       "    <tr>\n",
       "      <th>761</th>\n",
       "      <td>-0.033605</td>\n",
       "      <td>-0.271831</td>\n",
       "      <td>-0.921287</td>\n",
       "      <td>-0.679050</td>\n",
       "      <td>1.265162</td>\n",
       "      <td>-1.250215</td>\n",
       "      <td>0.058245</td>\n",
       "      <td>-0.978985</td>\n",
       "      <td>0.781356</td>\n",
       "      <td>0</td>\n",
       "    </tr>\n",
       "    <tr>\n",
       "      <th>339</th>\n",
       "      <td>-0.278385</td>\n",
       "      <td>-0.271831</td>\n",
       "      <td>-0.226087</td>\n",
       "      <td>0.043637</td>\n",
       "      <td>0.477357</td>\n",
       "      <td>-1.250215</td>\n",
       "      <td>-0.246204</td>\n",
       "      <td>-0.353706</td>\n",
       "      <td>-0.222865</td>\n",
       "      <td>0</td>\n",
       "    </tr>\n",
       "    <tr>\n",
       "      <th>42</th>\n",
       "      <td>-0.181397</td>\n",
       "      <td>-1.392390</td>\n",
       "      <td>-1.616486</td>\n",
       "      <td>0.043637</td>\n",
       "      <td>0.477357</td>\n",
       "      <td>-0.810333</td>\n",
       "      <td>-1.524888</td>\n",
       "      <td>0.896851</td>\n",
       "      <td>-2.231307</td>\n",
       "      <td>0</td>\n",
       "    </tr>\n",
       "    <tr>\n",
       "      <th>579</th>\n",
       "      <td>-0.273766</td>\n",
       "      <td>-1.018870</td>\n",
       "      <td>-1.616486</td>\n",
       "      <td>0.043637</td>\n",
       "      <td>1.265162</td>\n",
       "      <td>-1.250215</td>\n",
       "      <td>-0.915991</td>\n",
       "      <td>0.271572</td>\n",
       "      <td>0.613986</td>\n",
       "      <td>0</td>\n",
       "    </tr>\n",
       "  </tbody>\n",
       "</table>\n",
       "</div>"
      ],
      "text/plain": [
       "     footfall  tempMode        AQ       USS        CS       VOC        RP  \\\n",
       "224 -0.125975 -0.645350 -0.226087  0.766324 -1.098254 -1.250215  0.362694   \n",
       "761 -0.033605 -0.271831 -0.921287 -0.679050  1.265162 -1.250215  0.058245   \n",
       "339 -0.278385 -0.271831 -0.226087  0.043637  0.477357 -1.250215 -0.246204   \n",
       "42  -0.181397 -1.392390 -1.616486  0.043637  0.477357 -0.810333 -1.524888   \n",
       "579 -0.273766 -1.018870 -1.616486  0.043637  1.265162 -1.250215 -0.915991   \n",
       "\n",
       "           IP  Temperature  fail  \n",
       "224 -0.978985    -0.557605     1  \n",
       "761 -0.978985     0.781356     0  \n",
       "339 -0.353706    -0.222865     0  \n",
       "42   0.896851    -2.231307     0  \n",
       "579  0.271572     0.613986     0  "
      ]
     },
     "execution_count": 192,
     "metadata": {},
     "output_type": "execute_result"
    }
   ],
   "source": [
    "\n",
    "\n",
    "class MachinesData(Dataset):\n",
    "    def __init__(self,data,labels,device):\n",
    "        self.data = torch.tensor(data,dtype=torch.float32,device=device)\n",
    "        self.labels = torch.tensor(labels,dtype=torch.float32,device=device) \n",
    "        \n",
    "    def __len__(self):\n",
    "        return self.data.shape[0]\n",
    "    def __getitem__(self, index) :\n",
    "        return self.data[index],self.labels[index]\n",
    "\n",
    "\n",
    "def load_data(path=\"Machines_2\"):\n",
    "    data = pd.read_csv(os.path.join(path,\"data.csv\"))\n",
    "\n",
    "    labels = data.iloc[:,-1]\n",
    "    data = data.iloc[:,:-1]\n",
    "\n",
    "    normdata = (data- data.mean(axis=0))/data.std(axis=0)\n",
    "    normdata = pd.concat([normdata,labels],axis=1)\n",
    "    \n",
    "    return normdata\n",
    "\n",
    "def split_data(data,random_state = 12):\n",
    "    train_data,test_data = train_test_split(data,test_size=0.2,random_state=random_state)\n",
    "    return train_data,test_data\n",
    "\n",
    "\n",
    "data = load_data()\n",
    "\n",
    "train_data,test_data = split_data(data)\n",
    "print(f\"train_data :{train_data.shape[0]}\")\n",
    "print(f\"test_data :{test_data.shape[0]}\")\n"
   ]
  },
  {
   "cell_type": "code",
   "execution_count": 193,
   "metadata": {},
   "outputs": [],
   "source": [
    "train_dataset = MachinesData(train_data.iloc[:,:-1].values,train_data.iloc[:,-1].values,device)\n",
    "test_dataset = MachinesData(test_data.iloc[:,:-1].values,test_data.iloc[:,-1].values,device)\n",
    "\n",
    "train_loader = DataLoader(train_dataset,batch_size=BATCH_SIZE)\n",
    "test_loader = DataLoader(test_dataset,batch_size=BATCH_SIZE)"
   ]
  },
  {
   "cell_type": "code",
   "execution_count": 194,
   "metadata": {},
   "outputs": [],
   "source": [
    "class FailureWatch(torch.nn.Module):\n",
    "    def __init__(self,num_feat,num_classes,dropout_rate):\n",
    "        super(FailureWatch,self).__init__()\n",
    "\n",
    "        self.drop = nn.Dropout(dropout_rate)\n",
    "        self.act = nn.ReLU()\n",
    "        self.sigmoid = nn.Sigmoid()\n",
    "\n",
    "        self.layer1 = nn.Linear(num_feat,128)\n",
    "        self.layer2 = nn.Linear(128,256)\n",
    "        self.layer3 = nn.Linear(256,1024)\n",
    "        self.layer4 = nn.Linear(1024,1024)\n",
    "        self.out_layer = nn.Linear(1024,num_classes)\n",
    "    \n",
    "    def forward(self,x):\n",
    "        x = self.drop(self.act(self.layer1(x)))\n",
    "        x = self.drop(self.act(self.layer2(x)))\n",
    "        x = self.drop(self.act(self.layer3(x)))\n",
    "        x = self.drop(self.act(self.layer4(x)))\n",
    "        x = self.out_layer(x)\n",
    "        return self.sigmoid(x)\n",
    "\n",
    "num_features = train_data.shape[1]-1\n",
    "num_classes = 1\n",
    "model = FailureWatch(num_features,num_classes,DROPOUT).to(device)"
   ]
  },
  {
   "cell_type": "code",
   "execution_count": 195,
   "metadata": {},
   "outputs": [],
   "source": [
    "def evaluate(model:FailureWatch,loader):\n",
    "    model.eval()\n",
    "    preds = []\n",
    "    real = []\n",
    "\n",
    "    with torch.no_grad() :\n",
    "        for x , y in loader :\n",
    "            out = model(x)\n",
    "            out = out.to(\"cpu\").numpy()\n",
    "            y = y.to(\"cpu\").numpy()\n",
    "\n",
    "            pred = [0 if i<0.5 else 1 for i in out ]\n",
    "            preds +=pred\n",
    "            real += list(y)\n",
    "    \n",
    "    f1 = f1_score(preds,real)\n",
    "    acc = accuracy_score(preds,real)\n",
    "    print(f\"accuracy score :{acc:.3f} ,f1 score :{f1:.3f}\")\n",
    "    model.train()\n",
    "    return acc\n",
    "\n",
    "\n",
    "def train(num_epochs,model:FailureWatch,train_loader):\n",
    "\n",
    "    optimizer = torch.optim.Adam(model.parameters(),LR)\n",
    "    loss_function = nn.BCELoss()\n",
    "    \n",
    "    for epoch in range(num_epochs):\n",
    "        pbar = tqdm(total=train_data.shape[0])\n",
    "        pbar.set_description(f\"Epoch {epoch}:\")\n",
    "        for batch_idx,(batch_data,batch_labels) in enumerate(train_loader):\n",
    "            optimizer.zero_grad()\n",
    "            outputs = model(batch_data)\n",
    "            loss = loss_function(outputs.view(-1),batch_labels)\n",
    "            loss.backward()\n",
    "            optimizer.step()\n",
    "            pbar.update(BATCH_SIZE)\n",
    "\n",
    "        pbar.close()\n",
    "        \n",
    "        print(f\"Epoch {epoch}: loss={float(loss):.4f}  ,\",end=\" \")\n",
    "        evaluate(model,train_loader)\n",
    "\n",
    "    return model\n",
    "\n",
    "\n",
    "\n"
   ]
  },
  {
   "cell_type": "code",
   "execution_count": 196,
   "metadata": {},
   "outputs": [
    {
     "name": "stderr",
     "output_type": "stream",
     "text": [
      "\n",
      "\n",
      "\u001b[A\u001b[A\n",
      "\n",
      "Epoch 0:: : 768it [00:00, 8954.29it/s]           \n"
     ]
    },
    {
     "name": "stdout",
     "output_type": "stream",
     "text": [
      "Epoch 0: loss=0.4861  , accuracy score :0.870 ,f1 score :0.829\n"
     ]
    },
    {
     "name": "stderr",
     "output_type": "stream",
     "text": [
      "\n",
      "\n",
      "\u001b[A\u001b[A\n",
      "\n",
      "Epoch 1:: : 768it [00:00, 20249.35it/s]          \n"
     ]
    },
    {
     "name": "stdout",
     "output_type": "stream",
     "text": [
      "Epoch 1: loss=0.2322  , accuracy score :0.901 ,f1 score :0.884\n"
     ]
    },
    {
     "name": "stderr",
     "output_type": "stream",
     "text": [
      "\n",
      "\n",
      "\u001b[A\u001b[A\n",
      "\n",
      "Epoch 2:: : 768it [00:00, 19239.93it/s]          \n"
     ]
    },
    {
     "name": "stdout",
     "output_type": "stream",
     "text": [
      "Epoch 2: loss=0.2940  , accuracy score :0.907 ,f1 score :0.890\n"
     ]
    },
    {
     "name": "stderr",
     "output_type": "stream",
     "text": [
      "\n",
      "\n",
      "\u001b[A\u001b[A\n",
      "\n",
      "Epoch 3:: : 768it [00:00, 19744.68it/s]          \n"
     ]
    },
    {
     "name": "stdout",
     "output_type": "stream",
     "text": [
      "Epoch 3: loss=0.1831  , accuracy score :0.905 ,f1 score :0.890\n"
     ]
    },
    {
     "name": "stderr",
     "output_type": "stream",
     "text": [
      "\n",
      "\n",
      "\u001b[A\u001b[A\n",
      "\n",
      "Epoch 4:: : 768it [00:00, 19235.22it/s]          \n"
     ]
    },
    {
     "name": "stdout",
     "output_type": "stream",
     "text": [
      "Epoch 4: loss=0.2230  , accuracy score :0.911 ,f1 score :0.894\n"
     ]
    },
    {
     "name": "stderr",
     "output_type": "stream",
     "text": [
      "\n",
      "\n",
      "\u001b[A\u001b[A\n",
      "\n",
      "Epoch 5:: : 768it [00:00, 20266.16it/s]          \n"
     ]
    },
    {
     "name": "stdout",
     "output_type": "stream",
     "text": [
      "Epoch 5: loss=0.1939  , accuracy score :0.917 ,f1 score :0.902\n"
     ]
    },
    {
     "name": "stderr",
     "output_type": "stream",
     "text": [
      "\n",
      "\n",
      "\u001b[A\u001b[A\n",
      "\n",
      "Epoch 6:: : 768it [00:00, 19744.31it/s]          \n"
     ]
    },
    {
     "name": "stdout",
     "output_type": "stream",
     "text": [
      "Epoch 6: loss=0.1652  , accuracy score :0.914 ,f1 score :0.898\n"
     ]
    },
    {
     "name": "stderr",
     "output_type": "stream",
     "text": [
      "\n",
      "\n",
      "\u001b[A\u001b[A\n",
      "\n",
      "Epoch 7:: : 768it [00:00, 20245.02it/s]          \n"
     ]
    },
    {
     "name": "stdout",
     "output_type": "stream",
     "text": [
      "Epoch 7: loss=0.1998  , accuracy score :0.911 ,f1 score :0.896\n"
     ]
    },
    {
     "name": "stderr",
     "output_type": "stream",
     "text": [
      "\n",
      "\n",
      "\u001b[A\u001b[A\n",
      "\n",
      "Epoch 8:: : 768it [00:00, 19730.53it/s]          \n"
     ]
    },
    {
     "name": "stdout",
     "output_type": "stream",
     "text": [
      "Epoch 8: loss=0.1562  , accuracy score :0.914 ,f1 score :0.899\n"
     ]
    },
    {
     "name": "stderr",
     "output_type": "stream",
     "text": [
      "\n",
      "\n",
      "\u001b[A\u001b[A\n",
      "\n",
      "Epoch 9:: : 768it [00:00, 20264.63it/s]          \n"
     ]
    },
    {
     "name": "stdout",
     "output_type": "stream",
     "text": [
      "Epoch 9: loss=0.1814  , accuracy score :0.915 ,f1 score :0.901\n"
     ]
    },
    {
     "name": "stderr",
     "output_type": "stream",
     "text": [
      "\n",
      "\n",
      "\u001b[A\u001b[A\n",
      "\n",
      "Epoch 10:: : 768it [00:00, 19762.60it/s]          \n"
     ]
    },
    {
     "name": "stdout",
     "output_type": "stream",
     "text": [
      "Epoch 10: loss=0.2249  , accuracy score :0.915 ,f1 score :0.900\n"
     ]
    },
    {
     "name": "stderr",
     "output_type": "stream",
     "text": [
      "\n",
      "\n",
      "\u001b[A\u001b[A\n",
      "\n",
      "Epoch 11:: : 768it [00:00, 19237.97it/s]          \n"
     ]
    },
    {
     "name": "stdout",
     "output_type": "stream",
     "text": [
      "Epoch 11: loss=0.1791  , accuracy score :0.918 ,f1 score :0.904\n"
     ]
    },
    {
     "name": "stderr",
     "output_type": "stream",
     "text": [
      "\n",
      "\n",
      "\u001b[A\u001b[A\n",
      "\n",
      "Epoch 12:: : 768it [00:00, 19728.83it/s]          \n"
     ]
    },
    {
     "name": "stdout",
     "output_type": "stream",
     "text": [
      "Epoch 12: loss=0.2700  , accuracy score :0.915 ,f1 score :0.900\n"
     ]
    },
    {
     "name": "stderr",
     "output_type": "stream",
     "text": [
      "\n",
      "\n",
      "\u001b[A\u001b[A\n",
      "\n",
      "Epoch 13:: : 768it [00:00, 20233.45it/s]          \n"
     ]
    },
    {
     "name": "stdout",
     "output_type": "stream",
     "text": [
      "Epoch 13: loss=0.2291  , accuracy score :0.913 ,f1 score :0.898\n"
     ]
    },
    {
     "name": "stderr",
     "output_type": "stream",
     "text": [
      "\n",
      "\n",
      "\u001b[A\u001b[A\n",
      "\n",
      "Epoch 14:: : 768it [00:00, 19744.68it/s]          \n"
     ]
    },
    {
     "name": "stdout",
     "output_type": "stream",
     "text": [
      "Epoch 14: loss=0.1623  , accuracy score :0.918 ,f1 score :0.903\n"
     ]
    },
    {
     "name": "stderr",
     "output_type": "stream",
     "text": [
      "\n",
      "\n",
      "\u001b[A\u001b[A\n",
      "\n",
      "Epoch 15:: : 768it [00:00, 11493.33it/s]          \n"
     ]
    },
    {
     "name": "stdout",
     "output_type": "stream",
     "text": [
      "Epoch 15: loss=0.1862  , accuracy score :0.918 ,f1 score :0.903\n"
     ]
    },
    {
     "name": "stderr",
     "output_type": "stream",
     "text": [
      "\n",
      "\n",
      "\u001b[A\u001b[A\n",
      "\n",
      "Epoch 16:: : 768it [00:00, 21390.56it/s]          \n"
     ]
    },
    {
     "name": "stdout",
     "output_type": "stream",
     "text": [
      "Epoch 16: loss=0.2081  , accuracy score :0.917 ,f1 score :0.901\n"
     ]
    },
    {
     "name": "stderr",
     "output_type": "stream",
     "text": [
      "\n",
      "\n",
      "\u001b[A\u001b[A\n",
      "\n",
      "Epoch 17:: : 768it [00:00, 20246.16it/s]          \n"
     ]
    },
    {
     "name": "stdout",
     "output_type": "stream",
     "text": [
      "Epoch 17: loss=0.1614  , accuracy score :0.919 ,f1 score :0.904\n"
     ]
    },
    {
     "name": "stderr",
     "output_type": "stream",
     "text": [
      "\n",
      "\n",
      "\u001b[A\u001b[A\n",
      "\n",
      "Epoch 18:: : 768it [00:00, 19745.28it/s]          \n"
     ]
    },
    {
     "name": "stdout",
     "output_type": "stream",
     "text": [
      "Epoch 18: loss=0.1460  , accuracy score :0.923 ,f1 score :0.909\n"
     ]
    },
    {
     "name": "stderr",
     "output_type": "stream",
     "text": [
      "\n",
      "\n",
      "\u001b[A\u001b[A\n",
      "\n",
      "Epoch 19:: : 768it [00:00, 19732.70it/s]          \n"
     ]
    },
    {
     "name": "stdout",
     "output_type": "stream",
     "text": [
      "Epoch 19: loss=0.1637  , accuracy score :0.922 ,f1 score :0.907\n"
     ]
    },
    {
     "name": "stderr",
     "output_type": "stream",
     "text": [
      "\n",
      "\n",
      "\u001b[A\u001b[A\n",
      "\n",
      "Epoch 20:: : 768it [00:00, 19744.31it/s]          \n"
     ]
    },
    {
     "name": "stdout",
     "output_type": "stream",
     "text": [
      "Epoch 20: loss=0.1951  , accuracy score :0.923 ,f1 score :0.909\n"
     ]
    },
    {
     "name": "stderr",
     "output_type": "stream",
     "text": [
      "\n",
      "\n",
      "\u001b[A\u001b[A\n",
      "\n",
      "Epoch 21:: : 768it [00:00, 20248.33it/s]          \n"
     ]
    },
    {
     "name": "stdout",
     "output_type": "stream",
     "text": [
      "Epoch 21: loss=0.1621  , accuracy score :0.919 ,f1 score :0.905\n"
     ]
    },
    {
     "name": "stderr",
     "output_type": "stream",
     "text": [
      "\n",
      "\n",
      "\u001b[A\u001b[A\n",
      "\n",
      "Epoch 22:: : 768it [00:00, 15715.44it/s]          \n"
     ]
    },
    {
     "name": "stdout",
     "output_type": "stream",
     "text": [
      "Epoch 22: loss=0.1939  , accuracy score :0.922 ,f1 score :0.908\n"
     ]
    },
    {
     "name": "stderr",
     "output_type": "stream",
     "text": [
      "\n",
      "\n",
      "\u001b[A\u001b[A\n",
      "\n",
      "Epoch 23:: : 768it [00:00, 18322.51it/s]          \n"
     ]
    },
    {
     "name": "stdout",
     "output_type": "stream",
     "text": [
      "Epoch 23: loss=0.1373  , accuracy score :0.921 ,f1 score :0.907\n"
     ]
    },
    {
     "name": "stderr",
     "output_type": "stream",
     "text": [
      "\n",
      "\n",
      "\u001b[A\u001b[A\n",
      "\n",
      "Epoch 24:: : 768it [00:00, 19237.05it/s]          \n"
     ]
    },
    {
     "name": "stdout",
     "output_type": "stream",
     "text": [
      "Epoch 24: loss=0.1197  , accuracy score :0.925 ,f1 score :0.911\n"
     ]
    },
    {
     "name": "stderr",
     "output_type": "stream",
     "text": [
      "\n",
      "\n",
      "\u001b[A\u001b[A\n",
      "\n",
      "Epoch 25:: : 768it [00:00, 19251.43it/s]          \n"
     ]
    },
    {
     "name": "stdout",
     "output_type": "stream",
     "text": [
      "Epoch 25: loss=0.1422  , accuracy score :0.923 ,f1 score :0.909\n"
     ]
    },
    {
     "name": "stderr",
     "output_type": "stream",
     "text": [
      "\n",
      "\n",
      "\u001b[A\u001b[A\n",
      "\n",
      "Epoch 26:: : 768it [00:00, 19238.09it/s]          \n"
     ]
    },
    {
     "name": "stdout",
     "output_type": "stream",
     "text": [
      "Epoch 26: loss=0.1161  , accuracy score :0.923 ,f1 score :0.909\n"
     ]
    },
    {
     "name": "stderr",
     "output_type": "stream",
     "text": [
      "\n",
      "\n",
      "\u001b[A\u001b[A\n",
      "\n",
      "Epoch 27:: : 768it [00:00, 19744.56it/s]          \n"
     ]
    },
    {
     "name": "stdout",
     "output_type": "stream",
     "text": [
      "Epoch 27: loss=0.2061  , accuracy score :0.921 ,f1 score :0.906\n"
     ]
    },
    {
     "name": "stderr",
     "output_type": "stream",
     "text": [
      "\n",
      "\n",
      "\u001b[A\u001b[A\n",
      "\n",
      "Epoch 28:: : 768it [00:00, 11000.78it/s]          \n"
     ]
    },
    {
     "name": "stdout",
     "output_type": "stream",
     "text": [
      "Epoch 28: loss=0.1667  , accuracy score :0.926 ,f1 score :0.913\n"
     ]
    },
    {
     "name": "stderr",
     "output_type": "stream",
     "text": [
      "\n",
      "\n",
      "\u001b[A\u001b[A\n",
      "\n",
      "Epoch 29:: : 768it [00:00, 20812.58it/s]          \n"
     ]
    },
    {
     "name": "stdout",
     "output_type": "stream",
     "text": [
      "Epoch 29: loss=0.1828  , accuracy score :0.927 ,f1 score :0.913\n"
     ]
    },
    {
     "name": "stderr",
     "output_type": "stream",
     "text": [
      "\n",
      "\n",
      "\u001b[A\u001b[A\n",
      "\n",
      "Epoch 30:: : 768it [00:00, 18768.32it/s]          \n"
     ]
    },
    {
     "name": "stdout",
     "output_type": "stream",
     "text": [
      "Epoch 30: loss=0.1840  , accuracy score :0.928 ,f1 score :0.915\n"
     ]
    },
    {
     "name": "stderr",
     "output_type": "stream",
     "text": [
      "\n",
      "\n",
      "\u001b[A\u001b[A\n",
      "\n",
      "Epoch 31:: : 768it [00:00, 19251.31it/s]          \n"
     ]
    },
    {
     "name": "stdout",
     "output_type": "stream",
     "text": [
      "Epoch 31: loss=0.1746  , accuracy score :0.926 ,f1 score :0.912\n"
     ]
    },
    {
     "name": "stderr",
     "output_type": "stream",
     "text": [
      "\n",
      "\n",
      "\u001b[A\u001b[A\n",
      "\n",
      "Epoch 32:: : 768it [00:00, 16044.68it/s]          \n"
     ]
    },
    {
     "name": "stdout",
     "output_type": "stream",
     "text": [
      "Epoch 32: loss=0.1898  , accuracy score :0.927 ,f1 score :0.913\n"
     ]
    },
    {
     "name": "stderr",
     "output_type": "stream",
     "text": [
      "\n",
      "\n",
      "\u001b[A\u001b[A\n",
      "\n",
      "Epoch 33:: : 768it [00:00, 19250.50it/s]          \n"
     ]
    },
    {
     "name": "stdout",
     "output_type": "stream",
     "text": [
      "Epoch 33: loss=0.1473  , accuracy score :0.931 ,f1 score :0.919\n"
     ]
    },
    {
     "name": "stderr",
     "output_type": "stream",
     "text": [
      "\n",
      "\n",
      "\u001b[A\u001b[A\n",
      "\n",
      "Epoch 34:: : 768it [00:00, 19251.54it/s]          \n"
     ]
    },
    {
     "name": "stdout",
     "output_type": "stream",
     "text": [
      "Epoch 34: loss=0.1875  , accuracy score :0.928 ,f1 score :0.916\n"
     ]
    },
    {
     "name": "stderr",
     "output_type": "stream",
     "text": [
      "\n",
      "\n",
      "\u001b[A\u001b[A\n",
      "\n",
      "Epoch 35:: : 768it [00:00, 19730.53it/s]          \n"
     ]
    },
    {
     "name": "stdout",
     "output_type": "stream",
     "text": [
      "Epoch 35: loss=0.2509  , accuracy score :0.931 ,f1 score :0.919\n"
     ]
    },
    {
     "name": "stderr",
     "output_type": "stream",
     "text": [
      "\n",
      "\n",
      "\u001b[A\u001b[A\n",
      "\n",
      "Epoch 36:: : 768it [00:00, 19729.68it/s]          \n"
     ]
    },
    {
     "name": "stdout",
     "output_type": "stream",
     "text": [
      "Epoch 36: loss=0.1559  , accuracy score :0.930 ,f1 score :0.917\n"
     ]
    },
    {
     "name": "stderr",
     "output_type": "stream",
     "text": [
      "\n",
      "\n",
      "\u001b[A\u001b[A\n",
      "\n",
      "Epoch 37:: : 768it [00:00, 19423.34it/s]          \n"
     ]
    },
    {
     "name": "stdout",
     "output_type": "stream",
     "text": [
      "Epoch 37: loss=0.1656  , accuracy score :0.928 ,f1 score :0.915\n"
     ]
    },
    {
     "name": "stderr",
     "output_type": "stream",
     "text": [
      "\n",
      "\n",
      "\u001b[A\u001b[A\n",
      "\n",
      "Epoch 38:: : 768it [00:00, 19730.53it/s]          \n"
     ]
    },
    {
     "name": "stdout",
     "output_type": "stream",
     "text": [
      "Epoch 38: loss=0.2102  , accuracy score :0.926 ,f1 score :0.913\n"
     ]
    },
    {
     "name": "stderr",
     "output_type": "stream",
     "text": [
      "\n",
      "\n",
      "\u001b[A\u001b[A\n",
      "\n",
      "Epoch 39:: : 768it [00:00, 19745.04it/s]          \n"
     ]
    },
    {
     "name": "stdout",
     "output_type": "stream",
     "text": [
      "Epoch 39: loss=0.1797  , accuracy score :0.928 ,f1 score :0.916\n"
     ]
    },
    {
     "name": "stderr",
     "output_type": "stream",
     "text": [
      "\n",
      "\n",
      "\u001b[A\u001b[A\n",
      "\n",
      "Epoch 40:: : 768it [00:00, 19931.97it/s]          \n"
     ]
    },
    {
     "name": "stdout",
     "output_type": "stream",
     "text": [
      "Epoch 40: loss=0.1379  , accuracy score :0.930 ,f1 score :0.918\n"
     ]
    },
    {
     "name": "stderr",
     "output_type": "stream",
     "text": [
      "\n",
      "\n",
      "\u001b[A\u001b[A\n",
      "\n",
      "Epoch 41:: : 768it [00:00, 19250.27it/s]          \n"
     ]
    },
    {
     "name": "stdout",
     "output_type": "stream",
     "text": [
      "Epoch 41: loss=0.1318  , accuracy score :0.931 ,f1 score :0.919\n"
     ]
    },
    {
     "name": "stderr",
     "output_type": "stream",
     "text": [
      "\n",
      "\n",
      "\u001b[A\u001b[A\n",
      "\n",
      "Epoch 42:: : 768it [00:00, 19444.33it/s]          \n"
     ]
    },
    {
     "name": "stdout",
     "output_type": "stream",
     "text": [
      "Epoch 42: loss=0.1961  , accuracy score :0.931 ,f1 score :0.919\n"
     ]
    },
    {
     "name": "stderr",
     "output_type": "stream",
     "text": [
      "\n",
      "\n",
      "\u001b[A\u001b[A\n",
      "\n",
      "Epoch 43:: : 768it [00:00, 19730.53it/s]          \n"
     ]
    },
    {
     "name": "stdout",
     "output_type": "stream",
     "text": [
      "Epoch 43: loss=0.1747  , accuracy score :0.930 ,f1 score :0.917\n"
     ]
    },
    {
     "name": "stderr",
     "output_type": "stream",
     "text": [
      "\n",
      "\n",
      "\u001b[A\u001b[A\n",
      "\n",
      "Epoch 44:: : 768it [00:00, 10132.16it/s]          \n"
     ]
    },
    {
     "name": "stdout",
     "output_type": "stream",
     "text": [
      "Epoch 44: loss=0.1732  , accuracy score :0.932 ,f1 score :0.921\n"
     ]
    },
    {
     "name": "stderr",
     "output_type": "stream",
     "text": [
      "\n",
      "\n",
      "\u001b[A\u001b[A\n",
      "\n",
      "Epoch 45:: : 768it [00:00, 19745.16it/s]          \n"
     ]
    },
    {
     "name": "stdout",
     "output_type": "stream",
     "text": [
      "Epoch 45: loss=0.1104  , accuracy score :0.934 ,f1 score :0.922\n"
     ]
    },
    {
     "name": "stderr",
     "output_type": "stream",
     "text": [
      "\n",
      "\n",
      "\u001b[A\u001b[A\n",
      "\n",
      "Epoch 46:: : 768it [00:00, 19033.81it/s]          \n"
     ]
    },
    {
     "name": "stdout",
     "output_type": "stream",
     "text": [
      "Epoch 46: loss=0.1417  , accuracy score :0.932 ,f1 score :0.920\n"
     ]
    },
    {
     "name": "stderr",
     "output_type": "stream",
     "text": [
      "\n",
      "\n",
      "\u001b[A\u001b[A\n",
      "\n",
      "Epoch 47:: : 768it [00:00, 19731.37it/s]          \n"
     ]
    },
    {
     "name": "stdout",
     "output_type": "stream",
     "text": [
      "Epoch 47: loss=0.1443  , accuracy score :0.934 ,f1 score :0.922\n"
     ]
    },
    {
     "name": "stderr",
     "output_type": "stream",
     "text": [
      "\n",
      "\n",
      "\u001b[A\u001b[A\n",
      "\n",
      "Epoch 48:: : 768it [00:00, 20125.99it/s]          \n"
     ]
    },
    {
     "name": "stdout",
     "output_type": "stream",
     "text": [
      "Epoch 48: loss=0.1773  , accuracy score :0.932 ,f1 score :0.921\n"
     ]
    },
    {
     "name": "stderr",
     "output_type": "stream",
     "text": [
      "\n",
      "\n",
      "\u001b[A\u001b[A\n",
      "\n",
      "Epoch 49:: : 768it [00:00, 19237.74it/s]          \n"
     ]
    },
    {
     "name": "stdout",
     "output_type": "stream",
     "text": [
      "Epoch 49: loss=0.2457  , accuracy score :0.932 ,f1 score :0.921\n"
     ]
    },
    {
     "name": "stderr",
     "output_type": "stream",
     "text": [
      "\n",
      "\n",
      "\u001b[A\u001b[A\n",
      "\n",
      "Epoch 50:: : 768it [00:00, 20796.46it/s]          \n"
     ]
    },
    {
     "name": "stdout",
     "output_type": "stream",
     "text": [
      "Epoch 50: loss=0.1654  , accuracy score :0.932 ,f1 score :0.920\n"
     ]
    },
    {
     "name": "stderr",
     "output_type": "stream",
     "text": [
      "\n",
      "\n",
      "\u001b[A\u001b[A\n",
      "\n",
      "Epoch 51:: : 768it [00:00, 19744.92it/s]          \n"
     ]
    },
    {
     "name": "stdout",
     "output_type": "stream",
     "text": [
      "Epoch 51: loss=0.1767  , accuracy score :0.936 ,f1 score :0.925\n"
     ]
    },
    {
     "name": "stderr",
     "output_type": "stream",
     "text": [
      "\n",
      "\n",
      "\u001b[A\u001b[A\n",
      "\n",
      "Epoch 52:: : 768it [00:00, 17502.09it/s]          \n"
     ]
    },
    {
     "name": "stdout",
     "output_type": "stream",
     "text": [
      "Epoch 52: loss=0.1340  , accuracy score :0.935 ,f1 score :0.923\n"
     ]
    },
    {
     "name": "stderr",
     "output_type": "stream",
     "text": [
      "\n",
      "\n",
      "\u001b[A\u001b[A\n",
      "\n",
      "Epoch 53:: : 768it [00:00, 19730.41it/s]          \n"
     ]
    },
    {
     "name": "stdout",
     "output_type": "stream",
     "text": [
      "Epoch 53: loss=0.1100  , accuracy score :0.935 ,f1 score :0.923\n"
     ]
    },
    {
     "name": "stderr",
     "output_type": "stream",
     "text": [
      "\n",
      "\n",
      "\u001b[A\u001b[A\n",
      "\n",
      "Epoch 54:: : 768it [00:00, 19251.31it/s]          \n"
     ]
    },
    {
     "name": "stdout",
     "output_type": "stream",
     "text": [
      "Epoch 54: loss=0.1478  , accuracy score :0.931 ,f1 score :0.920\n"
     ]
    },
    {
     "name": "stderr",
     "output_type": "stream",
     "text": [
      "\n",
      "\n",
      "\u001b[A\u001b[A\n",
      "\n",
      "Epoch 55:: : 768it [00:00, 15090.39it/s]          \n"
     ]
    },
    {
     "name": "stdout",
     "output_type": "stream",
     "text": [
      "Epoch 55: loss=0.1475  , accuracy score :0.931 ,f1 score :0.920\n"
     ]
    },
    {
     "name": "stderr",
     "output_type": "stream",
     "text": [
      "\n",
      "\n",
      "\u001b[A\u001b[A\n",
      "\n",
      "Epoch 56:: : 768it [00:00, 19250.73it/s]          \n"
     ]
    },
    {
     "name": "stdout",
     "output_type": "stream",
     "text": [
      "Epoch 56: loss=0.1688  , accuracy score :0.932 ,f1 score :0.921\n"
     ]
    },
    {
     "name": "stderr",
     "output_type": "stream",
     "text": [
      "\n",
      "\n",
      "\u001b[A\u001b[A\n",
      "\n",
      "Epoch 57:: : 768it [00:00, 9625.66it/s]           \n"
     ]
    },
    {
     "name": "stdout",
     "output_type": "stream",
     "text": [
      "Epoch 57: loss=0.1916  , accuracy score :0.936 ,f1 score :0.925\n"
     ]
    },
    {
     "name": "stderr",
     "output_type": "stream",
     "text": [
      "\n",
      "\n",
      "\u001b[A\u001b[A\n",
      "\n",
      "Epoch 58:: : 768it [00:00, 20264.51it/s]          \n"
     ]
    },
    {
     "name": "stdout",
     "output_type": "stream",
     "text": [
      "Epoch 58: loss=0.1841  , accuracy score :0.938 ,f1 score :0.927\n"
     ]
    },
    {
     "name": "stderr",
     "output_type": "stream",
     "text": [
      "\n",
      "\n",
      "\u001b[A\u001b[A\n",
      "\n",
      "Epoch 59:: : 768it [00:00, 18780.25it/s]          \n"
     ]
    },
    {
     "name": "stdout",
     "output_type": "stream",
     "text": [
      "Epoch 59: loss=0.1151  , accuracy score :0.938 ,f1 score :0.927\n"
     ]
    },
    {
     "name": "stderr",
     "output_type": "stream",
     "text": [
      "\n",
      "\n",
      "\u001b[A\u001b[A\n",
      "\n",
      "Epoch 60:: : 768it [00:00, 19719.66it/s]          \n"
     ]
    },
    {
     "name": "stdout",
     "output_type": "stream",
     "text": [
      "Epoch 60: loss=0.1475  , accuracy score :0.935 ,f1 score :0.923\n"
     ]
    },
    {
     "name": "stderr",
     "output_type": "stream",
     "text": [
      "\n",
      "\n",
      "\u001b[A\u001b[A\n",
      "\n",
      "Epoch 61:: : 768it [00:00, 20249.47it/s]          \n"
     ]
    },
    {
     "name": "stdout",
     "output_type": "stream",
     "text": [
      "Epoch 61: loss=0.2325  , accuracy score :0.938 ,f1 score :0.927\n"
     ]
    },
    {
     "name": "stderr",
     "output_type": "stream",
     "text": [
      "\n",
      "\n",
      "\u001b[A\u001b[A\n",
      "\n",
      "Epoch 62:: : 768it [00:00, 18781.34it/s]          \n"
     ]
    },
    {
     "name": "stdout",
     "output_type": "stream",
     "text": [
      "Epoch 62: loss=0.1018  , accuracy score :0.939 ,f1 score :0.929\n"
     ]
    },
    {
     "name": "stderr",
     "output_type": "stream",
     "text": [
      "\n",
      "\n",
      "\u001b[A\u001b[A\n",
      "\n",
      "Epoch 63:: : 768it [00:00, 17896.99it/s]          \n"
     ]
    },
    {
     "name": "stdout",
     "output_type": "stream",
     "text": [
      "Epoch 63: loss=0.1343  , accuracy score :0.930 ,f1 score :0.916\n"
     ]
    },
    {
     "name": "stderr",
     "output_type": "stream",
     "text": [
      "\n",
      "\n",
      "\u001b[A\u001b[A\n",
      "\n",
      "Epoch 64:: : 768it [00:00, 18769.96it/s]          \n"
     ]
    },
    {
     "name": "stdout",
     "output_type": "stream",
     "text": [
      "Epoch 64: loss=0.1613  , accuracy score :0.936 ,f1 score :0.925\n"
     ]
    },
    {
     "name": "stderr",
     "output_type": "stream",
     "text": [
      "\n",
      "\n",
      "\u001b[A\u001b[A\n",
      "\n",
      "Epoch 65:: : 768it [00:00, 19437.52it/s]          \n"
     ]
    },
    {
     "name": "stdout",
     "output_type": "stream",
     "text": [
      "Epoch 65: loss=0.1893  , accuracy score :0.939 ,f1 score :0.929\n"
     ]
    },
    {
     "name": "stderr",
     "output_type": "stream",
     "text": [
      "\n",
      "\n",
      "\u001b[A\u001b[A\n",
      "\n",
      "Epoch 66:: : 768it [00:00, 19749.28it/s]          \n"
     ]
    },
    {
     "name": "stdout",
     "output_type": "stream",
     "text": [
      "Epoch 66: loss=0.1352  , accuracy score :0.935 ,f1 score :0.924\n"
     ]
    },
    {
     "name": "stderr",
     "output_type": "stream",
     "text": [
      "\n",
      "\n",
      "\u001b[A\u001b[A\n",
      "\n",
      "Epoch 67:: : 768it [00:00, 20249.22it/s]          \n"
     ]
    },
    {
     "name": "stdout",
     "output_type": "stream",
     "text": [
      "Epoch 67: loss=0.1475  , accuracy score :0.935 ,f1 score :0.924\n"
     ]
    },
    {
     "name": "stderr",
     "output_type": "stream",
     "text": [
      "\n",
      "\n",
      "\u001b[A\u001b[A\n",
      "\n",
      "Epoch 68:: : 768it [00:00, 19747.70it/s]          \n"
     ]
    },
    {
     "name": "stdout",
     "output_type": "stream",
     "text": [
      "Epoch 68: loss=0.1622  , accuracy score :0.934 ,f1 score :0.923\n"
     ]
    },
    {
     "name": "stderr",
     "output_type": "stream",
     "text": [
      "\n",
      "\n",
      "\u001b[A\u001b[A\n",
      "\n",
      "Epoch 69:: : 768it [00:00, 15392.68it/s]          \n"
     ]
    },
    {
     "name": "stdout",
     "output_type": "stream",
     "text": [
      "Epoch 69: loss=0.1822  , accuracy score :0.930 ,f1 score :0.917\n"
     ]
    },
    {
     "name": "stderr",
     "output_type": "stream",
     "text": [
      "\n",
      "\n",
      "\u001b[A\u001b[A\n",
      "\n",
      "Epoch 70:: : 768it [00:00, 19730.65it/s]          \n"
     ]
    },
    {
     "name": "stdout",
     "output_type": "stream",
     "text": [
      "Epoch 70: loss=0.1273  , accuracy score :0.934 ,f1 score :0.922\n"
     ]
    },
    {
     "name": "stderr",
     "output_type": "stream",
     "text": [
      "\n",
      "\n",
      "\u001b[A\u001b[A\n",
      "\n",
      "Epoch 71:: : 768it [00:00, 18538.15it/s]          \n"
     ]
    },
    {
     "name": "stdout",
     "output_type": "stream",
     "text": [
      "Epoch 71: loss=0.1732  , accuracy score :0.932 ,f1 score :0.920\n"
     ]
    },
    {
     "name": "stderr",
     "output_type": "stream",
     "text": [
      "\n",
      "\n",
      "\u001b[A\u001b[A\n",
      "\n",
      "Epoch 72:: : 768it [00:00, 16458.34it/s]          \n"
     ]
    },
    {
     "name": "stdout",
     "output_type": "stream",
     "text": [
      "Epoch 72: loss=0.1518  , accuracy score :0.935 ,f1 score :0.925\n"
     ]
    },
    {
     "name": "stderr",
     "output_type": "stream",
     "text": [
      "\n",
      "\n",
      "\u001b[A\u001b[A\n",
      "\n",
      "Epoch 73:: : 768it [00:00, 20265.02it/s]          \n"
     ]
    },
    {
     "name": "stdout",
     "output_type": "stream",
     "text": [
      "Epoch 73: loss=0.1528  , accuracy score :0.930 ,f1 score :0.919\n"
     ]
    },
    {
     "name": "stderr",
     "output_type": "stream",
     "text": [
      "\n",
      "\n",
      "\u001b[A\u001b[A\n",
      "\n",
      "Epoch 74:: : 768it [00:00, 17112.33it/s]          \n"
     ]
    },
    {
     "name": "stdout",
     "output_type": "stream",
     "text": [
      "Epoch 74: loss=0.1471  , accuracy score :0.934 ,f1 score :0.923\n"
     ]
    },
    {
     "name": "stderr",
     "output_type": "stream",
     "text": [
      "\n",
      "\n",
      "\u001b[A\u001b[A\n",
      "\n",
      "Epoch 75:: : 768it [00:00, 17907.83it/s]          \n"
     ]
    },
    {
     "name": "stdout",
     "output_type": "stream",
     "text": [
      "Epoch 75: loss=0.1481  , accuracy score :0.936 ,f1 score :0.925\n"
     ]
    },
    {
     "name": "stderr",
     "output_type": "stream",
     "text": [
      "\n",
      "\n",
      "\u001b[A\u001b[A\n",
      "\n",
      "Epoch 76:: : 768it [00:00, 18769.09it/s]          \n"
     ]
    },
    {
     "name": "stdout",
     "output_type": "stream",
     "text": [
      "Epoch 76: loss=0.2058  , accuracy score :0.936 ,f1 score :0.925\n"
     ]
    },
    {
     "name": "stderr",
     "output_type": "stream",
     "text": [
      "\n",
      "\n",
      "\u001b[A\u001b[A\n",
      "\n",
      "Epoch 77:: : 768it [00:00, 19730.65it/s]          \n"
     ]
    },
    {
     "name": "stdout",
     "output_type": "stream",
     "text": [
      "Epoch 77: loss=0.1409  , accuracy score :0.936 ,f1 score :0.925\n"
     ]
    },
    {
     "name": "stderr",
     "output_type": "stream",
     "text": [
      "\n",
      "\n",
      "\u001b[A\u001b[A\n",
      "\n",
      "Epoch 78:: : 768it [00:00, 19745.16it/s]          \n"
     ]
    },
    {
     "name": "stdout",
     "output_type": "stream",
     "text": [
      "Epoch 78: loss=0.1175  , accuracy score :0.936 ,f1 score :0.925\n"
     ]
    },
    {
     "name": "stderr",
     "output_type": "stream",
     "text": [
      "\n",
      "\n",
      "\u001b[A\u001b[A\n",
      "\n",
      "Epoch 79:: : 768it [00:00, 18781.89it/s]          \n"
     ]
    },
    {
     "name": "stdout",
     "output_type": "stream",
     "text": [
      "Epoch 79: loss=0.2066  , accuracy score :0.939 ,f1 score :0.929\n"
     ]
    },
    {
     "name": "stderr",
     "output_type": "stream",
     "text": [
      "\n",
      "\n",
      "\u001b[A\u001b[A\n",
      "\n",
      "Epoch 80:: : 768it [00:00, 19747.22it/s]          \n"
     ]
    },
    {
     "name": "stdout",
     "output_type": "stream",
     "text": [
      "Epoch 80: loss=0.1180  , accuracy score :0.940 ,f1 score :0.930\n"
     ]
    },
    {
     "name": "stderr",
     "output_type": "stream",
     "text": [
      "\n",
      "\n",
      "\u001b[A\u001b[A\n",
      "\n",
      "Epoch 81:: : 768it [00:00, 19238.09it/s]          \n"
     ]
    },
    {
     "name": "stdout",
     "output_type": "stream",
     "text": [
      "Epoch 81: loss=0.1518  , accuracy score :0.940 ,f1 score :0.930\n"
     ]
    },
    {
     "name": "stderr",
     "output_type": "stream",
     "text": [
      "\n",
      "\n",
      "\u001b[A\u001b[A\n",
      "\n",
      "Epoch 82:: : 768it [00:00, 19744.80it/s]          \n"
     ]
    },
    {
     "name": "stdout",
     "output_type": "stream",
     "text": [
      "Epoch 82: loss=0.1886  , accuracy score :0.942 ,f1 score :0.931\n"
     ]
    },
    {
     "name": "stderr",
     "output_type": "stream",
     "text": [
      "\n",
      "\n",
      "\u001b[A\u001b[A\n",
      "\n",
      "Epoch 83:: : 768it [00:00, 19744.92it/s]          \n"
     ]
    },
    {
     "name": "stdout",
     "output_type": "stream",
     "text": [
      "Epoch 83: loss=0.1648  , accuracy score :0.942 ,f1 score :0.932\n"
     ]
    },
    {
     "name": "stderr",
     "output_type": "stream",
     "text": [
      "\n",
      "\n",
      "\u001b[A\u001b[A\n",
      "\n",
      "Epoch 84:: : 768it [00:00, 18781.56it/s]          \n"
     ]
    },
    {
     "name": "stdout",
     "output_type": "stream",
     "text": [
      "Epoch 84: loss=0.1647  , accuracy score :0.943 ,f1 score :0.933\n"
     ]
    },
    {
     "name": "stderr",
     "output_type": "stream",
     "text": [
      "\n",
      "\n",
      "\u001b[A\u001b[A\n",
      "\n",
      "Epoch 85:: : 768it [00:00, 19744.92it/s]          \n"
     ]
    },
    {
     "name": "stdout",
     "output_type": "stream",
     "text": [
      "Epoch 85: loss=0.1584  , accuracy score :0.940 ,f1 score :0.930\n"
     ]
    },
    {
     "name": "stderr",
     "output_type": "stream",
     "text": [
      "\n",
      "\n",
      "\u001b[A\u001b[A\n",
      "\n",
      "Epoch 86:: : 768it [00:00, 14529.20it/s]          \n"
     ]
    },
    {
     "name": "stdout",
     "output_type": "stream",
     "text": [
      "Epoch 86: loss=0.1684  , accuracy score :0.939 ,f1 score :0.929\n"
     ]
    },
    {
     "name": "stderr",
     "output_type": "stream",
     "text": [
      "\n",
      "\n",
      "\u001b[A\u001b[A\n",
      "\n",
      "Epoch 87:: : 768it [00:00, 11000.81it/s]          \n"
     ]
    },
    {
     "name": "stdout",
     "output_type": "stream",
     "text": [
      "Epoch 87: loss=0.1400  , accuracy score :0.942 ,f1 score :0.932\n"
     ]
    },
    {
     "name": "stderr",
     "output_type": "stream",
     "text": [
      "\n",
      "\n",
      "\u001b[A\u001b[A\n",
      "\n",
      "Epoch 88:: : 768it [00:00, 19251.77it/s]          \n"
     ]
    },
    {
     "name": "stdout",
     "output_type": "stream",
     "text": [
      "Epoch 88: loss=0.1529  , accuracy score :0.939 ,f1 score :0.928\n"
     ]
    },
    {
     "name": "stderr",
     "output_type": "stream",
     "text": [
      "\n",
      "\n",
      "\u001b[A\u001b[A\n",
      "\n",
      "Epoch 89:: : 768it [00:00, 12834.23it/s]          \n"
     ]
    },
    {
     "name": "stdout",
     "output_type": "stream",
     "text": [
      "Epoch 89: loss=0.1277  , accuracy score :0.940 ,f1 score :0.930\n"
     ]
    },
    {
     "name": "stderr",
     "output_type": "stream",
     "text": [
      "\n",
      "\n",
      "\u001b[A\u001b[A\n",
      "\n",
      "Epoch 90:: : 768it [00:00, 19936.66it/s]          \n"
     ]
    },
    {
     "name": "stdout",
     "output_type": "stream",
     "text": [
      "Epoch 90: loss=0.1011  , accuracy score :0.938 ,f1 score :0.927\n"
     ]
    },
    {
     "name": "stderr",
     "output_type": "stream",
     "text": [
      "\n",
      "\n",
      "\u001b[A\u001b[A\n",
      "\n",
      "Epoch 91:: : 768it [00:00, 17908.03it/s]          \n"
     ]
    },
    {
     "name": "stdout",
     "output_type": "stream",
     "text": [
      "Epoch 91: loss=0.2075  , accuracy score :0.936 ,f1 score :0.925\n"
     ]
    },
    {
     "name": "stderr",
     "output_type": "stream",
     "text": [
      "\n",
      "\n",
      "\u001b[A\u001b[A\n",
      "\n",
      "Epoch 92:: : 768it [00:00, 18781.45it/s]          \n"
     ]
    },
    {
     "name": "stdout",
     "output_type": "stream",
     "text": [
      "Epoch 92: loss=0.2014  , accuracy score :0.939 ,f1 score :0.927\n"
     ]
    },
    {
     "name": "stderr",
     "output_type": "stream",
     "text": [
      "\n",
      "\n",
      "\u001b[A\u001b[A\n",
      "\n",
      "Epoch 93:: : 768it [00:00, 19256.95it/s]          \n"
     ]
    },
    {
     "name": "stdout",
     "output_type": "stream",
     "text": [
      "Epoch 93: loss=0.1476  , accuracy score :0.940 ,f1 score :0.930\n"
     ]
    },
    {
     "name": "stderr",
     "output_type": "stream",
     "text": [
      "\n",
      "\n",
      "\u001b[A\u001b[A\n",
      "\n",
      "Epoch 94:: : 768it [00:00, 19251.77it/s]          \n"
     ]
    },
    {
     "name": "stdout",
     "output_type": "stream",
     "text": [
      "Epoch 94: loss=0.1353  , accuracy score :0.939 ,f1 score :0.929\n"
     ]
    },
    {
     "name": "stderr",
     "output_type": "stream",
     "text": [
      "\n",
      "\n",
      "\u001b[A\u001b[A\n",
      "\n",
      "Epoch 95:: : 768it [00:00, 19948.02it/s]          \n"
     ]
    },
    {
     "name": "stdout",
     "output_type": "stream",
     "text": [
      "Epoch 95: loss=0.1513  , accuracy score :0.936 ,f1 score :0.925\n"
     ]
    },
    {
     "name": "stderr",
     "output_type": "stream",
     "text": [
      "\n",
      "\n",
      "\u001b[A\u001b[A\n",
      "\n",
      "Epoch 96:: : 768it [00:00, 18797.01it/s]          \n"
     ]
    },
    {
     "name": "stdout",
     "output_type": "stream",
     "text": [
      "Epoch 96: loss=0.1602  , accuracy score :0.940 ,f1 score :0.930\n"
     ]
    },
    {
     "name": "stderr",
     "output_type": "stream",
     "text": [
      "\n",
      "\n",
      "\u001b[A\u001b[A\n",
      "\n",
      "Epoch 97:: : 768it [00:00, 18790.11it/s]          \n"
     ]
    },
    {
     "name": "stdout",
     "output_type": "stream",
     "text": [
      "Epoch 97: loss=0.1468  , accuracy score :0.938 ,f1 score :0.927\n"
     ]
    },
    {
     "name": "stderr",
     "output_type": "stream",
     "text": [
      "\n",
      "\n",
      "\u001b[A\u001b[A\n",
      "\n",
      "Epoch 98:: : 768it [00:00, 19236.94it/s]          \n"
     ]
    },
    {
     "name": "stdout",
     "output_type": "stream",
     "text": [
      "Epoch 98: loss=0.1454  , accuracy score :0.940 ,f1 score :0.930\n"
     ]
    },
    {
     "name": "stderr",
     "output_type": "stream",
     "text": [
      "\n",
      "\n",
      "\u001b[A\u001b[A\n",
      "\n",
      "Epoch 99:: : 768it [00:00, 18782.33it/s]          "
     ]
    },
    {
     "name": "stdout",
     "output_type": "stream",
     "text": [
      "Epoch 99: loss=0.1071  , accuracy score :0.942 ,f1 score :0.932\n"
     ]
    },
    {
     "name": "stderr",
     "output_type": "stream",
     "text": [
      "\n"
     ]
    }
   ],
   "source": [
    "model = train(EPOCHS,model,train_loader)"
   ]
  },
  {
   "cell_type": "code",
   "execution_count": 197,
   "metadata": {},
   "outputs": [
    {
     "name": "stdout",
     "output_type": "stream",
     "text": [
      "accuracy score :0.926 ,f1 score :0.908\n"
     ]
    }
   ],
   "source": [
    "acc = evaluate(model,test_loader)"
   ]
  },
  {
   "cell_type": "code",
   "execution_count": 198,
   "metadata": {},
   "outputs": [],
   "source": [
    "torch.save(model.state_dict(),f\"model/acc_{acc}_weights.pt\")"
   ]
  }
 ],
 "metadata": {
  "kernelspec": {
   "display_name": "Python 3",
   "language": "python",
   "name": "python3"
  },
  "language_info": {
   "codemirror_mode": {
    "name": "ipython",
    "version": 3
   },
   "file_extension": ".py",
   "mimetype": "text/x-python",
   "name": "python",
   "nbconvert_exporter": "python",
   "pygments_lexer": "ipython3",
   "version": "3.9.7"
  }
 },
 "nbformat": 4,
 "nbformat_minor": 2
}
